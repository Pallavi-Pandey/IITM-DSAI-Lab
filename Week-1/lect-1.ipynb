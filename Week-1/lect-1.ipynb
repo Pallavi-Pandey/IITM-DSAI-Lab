{
 "cells": [
  {
   "cell_type": "markdown",
   "id": "bf18d3fb",
   "metadata": {},
   "source": [
    "Import"
   ]
  },
  {
   "cell_type": "code",
   "execution_count": 39,
   "id": "200ddb0f",
   "metadata": {},
   "outputs": [],
   "source": [
    "import numpy as np"
   ]
  },
  {
   "cell_type": "markdown",
   "id": "16e8500c",
   "metadata": {},
   "source": [
    "Python Lists"
   ]
  },
  {
   "cell_type": "code",
   "execution_count": 40,
   "id": "e6b5f3bb",
   "metadata": {},
   "outputs": [
    {
     "name": "stdout",
     "output_type": "stream",
     "text": [
      "[5, 7, 9]\n"
     ]
    }
   ],
   "source": [
    "x = [1,2,3]\n",
    "y = [4,5,6]\n",
    "z = []\n",
    "for i in range(len(x)):\n",
    "    z.append(x[i]+y[i])\n",
    "\n",
    "print(z)"
   ]
  },
  {
   "cell_type": "markdown",
   "id": "6128a73f",
   "metadata": {},
   "source": [
    "Vectors as NumPy arrays"
   ]
  },
  {
   "cell_type": "code",
   "execution_count": 41,
   "id": "419f5d7b",
   "metadata": {},
   "outputs": [
    {
     "data": {
      "text/plain": [
       "array([1, 2, 3])"
      ]
     },
     "execution_count": 41,
     "metadata": {},
     "output_type": "execute_result"
    }
   ],
   "source": [
    "x = np.array([1,2,3])\n",
    "x"
   ]
  },
  {
   "cell_type": "code",
   "execution_count": 42,
   "id": "d7e0a8fa",
   "metadata": {},
   "outputs": [
    {
     "data": {
      "text/plain": [
       "[1, 2, 3]"
      ]
     },
     "execution_count": 42,
     "metadata": {},
     "output_type": "execute_result"
    }
   ],
   "source": [
    "list(range(1,4)) #in python"
   ]
  },
  {
   "cell_type": "code",
   "execution_count": 43,
   "id": "48e3d1d4",
   "metadata": {},
   "outputs": [
    {
     "data": {
      "text/plain": [
       "array([1, 2, 3])"
      ]
     },
     "execution_count": 43,
     "metadata": {},
     "output_type": "execute_result"
    }
   ],
   "source": [
    "x = np.arange(1,4) \n",
    "x\n"
   ]
  },
  {
   "cell_type": "code",
   "execution_count": 44,
   "id": "d121d627",
   "metadata": {},
   "outputs": [
    {
     "data": {
      "text/plain": [
       "numpy.ndarray"
      ]
     },
     "execution_count": 44,
     "metadata": {},
     "output_type": "execute_result"
    }
   ],
   "source": [
    "type(x)"
   ]
  },
  {
   "cell_type": "markdown",
   "id": "7870e6b6",
   "metadata": {},
   "source": [
    "Vector addition"
   ]
  },
  {
   "cell_type": "code",
   "execution_count": 45,
   "id": "f2f0b9aa",
   "metadata": {},
   "outputs": [
    {
     "data": {
      "text/plain": [
       "array([5, 7, 9])"
      ]
     },
     "execution_count": 45,
     "metadata": {},
     "output_type": "execute_result"
    }
   ],
   "source": [
    "x = np.arange(1, 4)\n",
    "y = np.arange(4, 7)\n",
    "z = x + y\n",
    "z"
   ]
  },
  {
   "cell_type": "markdown",
   "id": "1c15ad99",
   "metadata": {},
   "source": [
    "Element-wise multiplication"
   ]
  },
  {
   "cell_type": "code",
   "execution_count": 46,
   "id": "56076288",
   "metadata": {},
   "outputs": [
    {
     "data": {
      "text/plain": [
       "array([ 4, 10, 18])"
      ]
     },
     "execution_count": 46,
     "metadata": {},
     "output_type": "execute_result"
    }
   ],
   "source": [
    "x = np.arange(1, 4)\n",
    "y = np.arange(4, 7)\n",
    "z = x * y\n",
    "z"
   ]
  },
  {
   "cell_type": "markdown",
   "id": "bb575ab3",
   "metadata": {},
   "source": [
    "Scaling vectors"
   ]
  },
  {
   "cell_type": "code",
   "execution_count": 47,
   "id": "9c85b8cc",
   "metadata": {},
   "outputs": [
    {
     "data": {
      "text/plain": [
       "array([3, 6, 9])"
      ]
     },
     "execution_count": 47,
     "metadata": {},
     "output_type": "execute_result"
    }
   ],
   "source": [
    "x = np.arange(1, 4)\n",
    "y = 3 * x\n",
    "y"
   ]
  },
  {
   "cell_type": "markdown",
   "id": "54bb5cda",
   "metadata": {},
   "source": [
    "Python List VS NumPy Arrays\n",
    "- Numpy is 70x faster than Python lists for large arrays"
   ]
  },
  {
   "cell_type": "code",
   "execution_count": 48,
   "id": "5aaad21b",
   "metadata": {},
   "outputs": [],
   "source": [
    "x_lists = list(range(1, 1_000_001))\n",
    "x_numpy = np.arange(1, 1_000_001)"
   ]
  },
  {
   "cell_type": "code",
   "execution_count": 56,
   "id": "8d1fadf7",
   "metadata": {},
   "outputs": [
    {
     "name": "stdout",
     "output_type": "stream",
     "text": [
      "223 ms ± 34.7 ms per loop (mean ± std. dev. of 7 runs, 1 loop each)\n"
     ]
    }
   ],
   "source": [
    "%timeit [2 * comp for comp in x_lists]"
   ]
  },
  {
   "cell_type": "code",
   "execution_count": 57,
   "id": "a302d5c3",
   "metadata": {},
   "outputs": [
    {
     "name": "stdout",
     "output_type": "stream",
     "text": [
      "2.48 ms ± 123 μs per loop (mean ± std. dev. of 7 runs, 100 loops each)\n"
     ]
    }
   ],
   "source": [
    "%timeit 2 * x_numpy"
   ]
  },
  {
   "cell_type": "code",
   "execution_count": 58,
   "id": "fe02e5e4",
   "metadata": {},
   "outputs": [
    {
     "data": {
      "text/plain": [
       "89.91935483870968"
      ]
     },
     "execution_count": 58,
     "metadata": {},
     "output_type": "execute_result"
    }
   ],
   "source": [
    "223 / 2.48"
   ]
  },
  {
   "cell_type": "markdown",
   "id": "c35fd40f",
   "metadata": {},
   "source": [
    "Element-wise functions of vectors\n",
    "- Example-1: f(x) = x^2"
   ]
  },
  {
   "cell_type": "code",
   "execution_count": 52,
   "id": "6f35831c",
   "metadata": {},
   "outputs": [
    {
     "data": {
      "text/plain": [
       "array([ 1,  4,  9, 16])"
      ]
     },
     "execution_count": 52,
     "metadata": {},
     "output_type": "execute_result"
    }
   ],
   "source": [
    "x = np.arange(1, 5)\n",
    "y = x ** 2\n",
    "y"
   ]
  },
  {
   "cell_type": "markdown",
   "id": "85bb4ac3",
   "metadata": {},
   "source": [
    "- Example-2.1: f(x) = log(x)"
   ]
  },
  {
   "cell_type": "code",
   "execution_count": 53,
   "id": "4d67097c",
   "metadata": {},
   "outputs": [
    {
     "data": {
      "text/plain": [
       "array([0., 1., 2., 3., 4., 5., 6.])"
      ]
     },
     "execution_count": 53,
     "metadata": {},
     "output_type": "execute_result"
    }
   ],
   "source": [
    "x = np.array([1, 10, 100, 1000, 10_000, 100_000, 1_000_000])\n",
    "y = np.log10(x)\n",
    "y"
   ]
  },
  {
   "cell_type": "markdown",
   "id": "d6e6eaaf",
   "metadata": {},
   "source": [
    "- Example-2.2: f(x) = ln(x) element-wise"
   ]
  },
  {
   "cell_type": "code",
   "execution_count": 54,
   "id": "29b2c43e",
   "metadata": {},
   "outputs": [
    {
     "data": {
      "text/plain": [
       "array([0., 1., 2., 3., 4.])"
      ]
     },
     "execution_count": 54,
     "metadata": {},
     "output_type": "execute_result"
    }
   ],
   "source": [
    "x = np.array([1, np.e, np.e ** 2, np.e ** 3, np.e ** 4])\n",
    "y = np.log(x)\n",
    "y"
   ]
  },
  {
   "cell_type": "markdown",
   "id": "88d8d596",
   "metadata": {},
   "source": [
    "- Example-3: f(x) = x + c where c is 5."
   ]
  },
  {
   "cell_type": "code",
   "execution_count": 59,
   "id": "2da53fd0",
   "metadata": {},
   "outputs": [
    {
     "data": {
      "text/plain": [
       "array([6, 7, 8])"
      ]
     },
     "execution_count": 59,
     "metadata": {},
     "output_type": "execute_result"
    }
   ],
   "source": [
    "x = np.array([1,2,3])\n",
    "c = 5\n",
    "y = x + c\n",
    "y"
   ]
  },
  {
   "cell_type": "markdown",
   "id": "bda94e44",
   "metadata": {},
   "source": [
    "- Example-5: f(x) = 5x - 2"
   ]
  },
  {
   "cell_type": "code",
   "execution_count": 63,
   "id": "bef457c3",
   "metadata": {},
   "outputs": [
    {
     "data": {
      "text/plain": [
       "array([-7, -2,  3,  8])"
      ]
     },
     "execution_count": 63,
     "metadata": {},
     "output_type": "execute_result"
    }
   ],
   "source": [
    "x = np.arange(-1, 3)\n",
    "y = 5 * x - 2\n",
    "y"
   ]
  },
  {
   "cell_type": "markdown",
   "id": "dd9a80f4",
   "metadata": {},
   "source": [
    "Dot product of vectors"
   ]
  },
  {
   "cell_type": "code",
   "execution_count": null,
   "id": "b9888f33",
   "metadata": {},
   "outputs": [
    {
     "data": {
      "text/plain": [
       "np.int64(-60)"
      ]
     },
     "execution_count": 69,
     "metadata": {},
     "output_type": "execute_result"
    }
   ],
   "source": [
    "x = np.arange(1, 5)\n",
    "y = np.arange(-4, -8, -1)\n",
    "x @ y \n"
   ]
  },
  {
   "cell_type": "code",
   "execution_count": 67,
   "id": "eda36170",
   "metadata": {},
   "outputs": [
    {
     "data": {
      "text/plain": [
       "np.int64(-60)"
      ]
     },
     "execution_count": 67,
     "metadata": {},
     "output_type": "execute_result"
    }
   ],
   "source": [
    "np.dot(x, y)"
   ]
  },
  {
   "cell_type": "markdown",
   "id": "f7c62302",
   "metadata": {},
   "source": [
    "Vector of ones and zeros"
   ]
  },
  {
   "cell_type": "code",
   "execution_count": 73,
   "id": "73ddb29a",
   "metadata": {},
   "outputs": [
    {
     "data": {
      "text/plain": [
       "array([0., 0., 0., 0., 0.])"
      ]
     },
     "execution_count": 73,
     "metadata": {},
     "output_type": "execute_result"
    }
   ],
   "source": [
    "zeros = np.zeros(5)\n",
    "zeros"
   ]
  },
  {
   "cell_type": "code",
   "execution_count": 74,
   "id": "822edb12",
   "metadata": {},
   "outputs": [
    {
     "data": {
      "text/plain": [
       "array([1., 1., 1., 1., 1.])"
      ]
     },
     "execution_count": 74,
     "metadata": {},
     "output_type": "execute_result"
    }
   ],
   "source": [
    "ones = np.ones(5)\n",
    "ones"
   ]
  },
  {
   "cell_type": "code",
   "execution_count": 76,
   "id": "7df567df",
   "metadata": {},
   "outputs": [
    {
     "data": {
      "text/plain": [
       "array([5., 5., 5., 5., 5.])"
      ]
     },
     "execution_count": 76,
     "metadata": {},
     "output_type": "execute_result"
    }
   ],
   "source": [
    "fives = np.ones(5) * 5\n",
    "fives"
   ]
  },
  {
   "cell_type": "markdown",
   "id": "782db8cc",
   "metadata": {},
   "source": [
    "Norms of vectors"
   ]
  },
  {
   "cell_type": "code",
   "execution_count": 77,
   "id": "bbf2a56f",
   "metadata": {},
   "outputs": [
    {
     "data": {
      "text/plain": [
       "np.float64(3.7416573867739413)"
      ]
     },
     "execution_count": 77,
     "metadata": {},
     "output_type": "execute_result"
    }
   ],
   "source": [
    "x = np.array([1,2,3])\n",
    "np.linalg.norm(x)  # Euclidean norm (L2 norm)"
   ]
  },
  {
   "cell_type": "code",
   "execution_count": 78,
   "id": "14fadd73",
   "metadata": {},
   "outputs": [
    {
     "data": {
      "text/plain": [
       "np.float64(6.0)"
      ]
     },
     "execution_count": 78,
     "metadata": {},
     "output_type": "execute_result"
    }
   ],
   "source": [
    "x = np.array([1,2,3])\n",
    "np.linalg.norm(x, ord=1)  # L1 norm"
   ]
  },
  {
   "cell_type": "markdown",
   "id": "3d63d5b5",
   "metadata": {},
   "source": [
    "Shape and dimensions of vectors\n",
    "- Shape of a vector is (n, ) where n is the number of elements in the vector\n",
    "- Dimension of a vector: 1"
   ]
  },
  {
   "cell_type": "code",
   "execution_count": 79,
   "id": "f567dcba",
   "metadata": {},
   "outputs": [
    {
     "data": {
      "text/plain": [
       "(4,)"
      ]
     },
     "execution_count": 79,
     "metadata": {},
     "output_type": "execute_result"
    }
   ],
   "source": [
    "x = np.array([1,2,3,4])\n",
    "x.shape"
   ]
  },
  {
   "cell_type": "code",
   "execution_count": 80,
   "id": "a86f50ff",
   "metadata": {},
   "outputs": [
    {
     "data": {
      "text/plain": [
       "1"
      ]
     },
     "execution_count": 80,
     "metadata": {},
     "output_type": "execute_result"
    }
   ],
   "source": [
    "x.ndim"
   ]
  },
  {
   "cell_type": "code",
   "execution_count": null,
   "id": "b1c1252e",
   "metadata": {},
   "outputs": [],
   "source": []
  }
 ],
 "metadata": {
  "kernelspec": {
   "display_name": "IITM-DSAI-Lab",
   "language": "python",
   "name": "python3"
  },
  "language_info": {
   "codemirror_mode": {
    "name": "ipython",
    "version": 3
   },
   "file_extension": ".py",
   "mimetype": "text/x-python",
   "name": "python",
   "nbconvert_exporter": "python",
   "pygments_lexer": "ipython3",
   "version": "3.10.12"
  }
 },
 "nbformat": 4,
 "nbformat_minor": 5
}
